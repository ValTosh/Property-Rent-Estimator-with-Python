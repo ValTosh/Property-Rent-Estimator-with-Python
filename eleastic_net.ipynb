{
 "cells": [
  {
   "cell_type": "code",
   "execution_count": 1,
   "id": "5968b113",
   "metadata": {},
   "outputs": [],
   "source": [
    "import matplotlib.pyplot as plt\n",
    "import seaborn as sns\n",
    "import pandas as pd\n",
    "import numpy as np\n",
    "\n",
    "from sklearn.model_selection import train_test_split\n",
    "from sklearn.metrics import mean_absolute_error, mean_squared_error\n",
    "from sklearn.linear_model import ElasticNet\n",
    "from sklearn.preprocessing import StandardScaler\n",
    "from sklearn.model_selection import GridSearchCV"
   ]
  },
  {
   "cell_type": "code",
   "execution_count": 2,
   "id": "bffbfc63",
   "metadata": {},
   "outputs": [],
   "source": [
    "# pd.set_option('display.max_colwidth', None)"
   ]
  },
  {
   "cell_type": "code",
   "execution_count": 3,
   "id": "37272275",
   "metadata": {},
   "outputs": [],
   "source": [
    "def df_concat(*file_name):\n",
    "    # concatenates multiple files in a single df\n",
    "    df_f = pd.DataFrame()\n",
    "    for i in file_name:\n",
    "        df_file = pd.read_csv(f'{i}.csv', index_col = 0)\n",
    "        df_f = pd.concat([df_f, df_file])\n",
    "    \n",
    "    # removing duplicated listings\n",
    "    df_size_with_dups = df_f.shape[0]\n",
    "    df_f = df_f.drop_duplicates(subset=['url'],keep='first')\n",
    "    print(f'There is {df_size_with_dups - df_f.shape[0]} duplicates')\n",
    "    df_f = df_f.reset_index(drop=True)\n",
    "    return df_f"
   ]
  },
  {
   "cell_type": "code",
   "execution_count": 4,
   "id": "a2ed9c73",
   "metadata": {},
   "outputs": [
    {
     "name": "stdout",
     "output_type": "stream",
     "text": [
      "There is 0 duplicates\n"
     ]
    }
   ],
   "source": [
    "df = df_concat('apt_house_sfbay_df_2023-03-11')"
   ]
  },
  {
   "cell_type": "code",
   "execution_count": 5,
   "id": "0d285e69",
   "metadata": {},
   "outputs": [
    {
     "name": "stdout",
     "output_type": "stream",
     "text": [
      "<class 'pandas.core.frame.DataFrame'>\n",
      "RangeIndex: 11038 entries, 0 to 11037\n",
      "Data columns (total 23 columns):\n",
      " #   Column                 Non-Null Count  Dtype  \n",
      "---  ------                 --------------  -----  \n",
      " 0   index                  11038 non-null  int64  \n",
      " 1   url                    11038 non-null  object \n",
      " 2   price                  11038 non-null  int64  \n",
      " 3   area                   11038 non-null  int64  \n",
      " 4   location               11038 non-null  object \n",
      " 5   latitude               11038 non-null  float64\n",
      " 6   longitude              11038 non-null  float64\n",
      " 7   bedrooms               11038 non-null  int64  \n",
      " 8   bathrooms              11038 non-null  float64\n",
      " 9   property_type          11038 non-null  float64\n",
      " 10  parking                11038 non-null  int64  \n",
      " 11  laundry                11038 non-null  int64  \n",
      " 12  EV_charging            11038 non-null  int64  \n",
      " 13  air_conditioning       11038 non-null  int64  \n",
      " 14  furnished              11038 non-null  int64  \n",
      " 15  smoking                11038 non-null  int64  \n",
      " 16  wheelchair_accessible  11038 non-null  int64  \n",
      " 17  cats_allowed           11038 non-null  int64  \n",
      " 18  dogs_allowed           11038 non-null  int64  \n",
      " 19  city                   11038 non-null  object \n",
      " 20  zip_code               11038 non-null  int64  \n",
      " 21  state                  11038 non-null  object \n",
      " 22  neighbourhood          11038 non-null  object \n",
      "dtypes: float64(4), int64(14), object(5)\n",
      "memory usage: 1.9+ MB\n"
     ]
    }
   ],
   "source": [
    "df.info()"
   ]
  },
  {
   "cell_type": "code",
   "execution_count": 6,
   "id": "1b73db1f",
   "metadata": {},
   "outputs": [],
   "source": [
    "X = df[['area', 'bedrooms', 'bathrooms', 'property_type', 'parking', 'laundry',\n",
    "            'EV_charging', 'air_conditioning', 'furnished', 'smoking', 'wheelchair_accessible',\n",
    "            'cats_allowed', 'dogs_allowed', 'zip_code']]\n",
    "y = df['price']"
   ]
  },
  {
   "cell_type": "code",
   "execution_count": 7,
   "id": "a46b6607",
   "metadata": {},
   "outputs": [],
   "source": [
    "def report_model_regression(model, X_test, y_test):\n",
    "    # Predicts y_test. \n",
    "    # Calculates MAE, RMSE and the percentage of MAE of the MAE of the average price.\n",
    "    # Displays scatter plot between predicted and actual price and histogram of the residuals.\n",
    "    \n",
    "    model_preds = model.predict(X_test)\n",
    "    print(f'The mean absolute error is {round(mean_absolute_error(y_test, model_preds), 2)}')\n",
    "    print(f'The root mean squared error is {round(np.sqrt(mean_squared_error(y_test, model_preds)), 2)}')\n",
    "    print(f'The percentage of the mean absolute error of the average price is \\\n",
    "{round(mean_absolute_error(y_test, model_preds) / df.price.describe()[1] * 100, 2)}%\\n')\n",
    "    \n",
    "    plt.scatter(y_test, model_preds)\n",
    "    plt.xlabel('Actual price')\n",
    "    plt.ylabel('Predicted price')\n",
    "    plt.show()\n",
    "    \n",
    "    test_residuals = y_test - model_preds\n",
    "    sns.displot(test_residuals, bins=25, kde=True)"
   ]
  },
  {
   "cell_type": "code",
   "execution_count": 8,
   "id": "2fb83ac4",
   "metadata": {},
   "outputs": [],
   "source": [
    "X_train, X_test, y_train, y_test = train_test_split(X, y, test_size=0.2, random_state=42)"
   ]
  },
  {
   "cell_type": "code",
   "execution_count": 9,
   "id": "95a40273",
   "metadata": {},
   "outputs": [],
   "source": [
    "scaler = StandardScaler()"
   ]
  },
  {
   "cell_type": "code",
   "execution_count": 10,
   "id": "51e983e0",
   "metadata": {},
   "outputs": [],
   "source": [
    "X_train = scaler.fit_transform(X_train)\n",
    "X_test = scaler.transform(X_test)"
   ]
  },
  {
   "cell_type": "code",
   "execution_count": 11,
   "id": "e6fd8c06",
   "metadata": {},
   "outputs": [],
   "source": [
    "model = ElasticNet()"
   ]
  },
  {
   "cell_type": "code",
   "execution_count": 12,
   "id": "a427319b",
   "metadata": {},
   "outputs": [],
   "source": [
    "param_grid = {'l1_ratio' : [.1, .5, .7, .9, .95, .99, 1]}"
   ]
  },
  {
   "cell_type": "code",
   "execution_count": 13,
   "id": "08a40bef",
   "metadata": {},
   "outputs": [],
   "source": [
    "grid_model = GridSearchCV(model, param_grid, scoring='neg_mean_squared_error', cv=10, n_jobs=-1)"
   ]
  },
  {
   "cell_type": "code",
   "execution_count": 14,
   "id": "a1ef4a17",
   "metadata": {},
   "outputs": [
    {
     "data": {
      "text/plain": [
       "GridSearchCV(cv=10, estimator=ElasticNet(), n_jobs=-1,\n",
       "             param_grid={'l1_ratio': [0.1, 0.5, 0.7, 0.9, 0.95, 0.99, 1]},\n",
       "             scoring='neg_mean_squared_error')"
      ]
     },
     "execution_count": 14,
     "metadata": {},
     "output_type": "execute_result"
    }
   ],
   "source": [
    "grid_model.fit(X_train, y_train)"
   ]
  },
  {
   "cell_type": "code",
   "execution_count": 15,
   "id": "09a5d186",
   "metadata": {},
   "outputs": [
    {
     "data": {
      "text/plain": [
       "{'l1_ratio': 1}"
      ]
     },
     "execution_count": 15,
     "metadata": {},
     "output_type": "execute_result"
    }
   ],
   "source": [
    "grid_model.best_params_"
   ]
  },
  {
   "cell_type": "code",
   "execution_count": 16,
   "id": "be0b57ec",
   "metadata": {
    "scrolled": false
   },
   "outputs": [
    {
     "name": "stdout",
     "output_type": "stream",
     "text": [
      "The mean absolute error is 454.31\n",
      "The root mean squared error is 586.52\n",
      "The percentage of the mean absolute error of the average price is 15.32%\n",
      "\n"
     ]
    },
    {
     "data": {
      "image/png": "[encoded data removed]",
      "text/plain": [
       "<Figure size 640x480 with 1 Axes>"
      ]
     },
     "metadata": {},
     "output_type": "display_data"
    },
    {
     "data": {
      "image/png": "[encoded data removed]",
      "text/plain": [
       "<Figure size 500x500 with 1 Axes>"
      ]
     },
     "metadata": {},
     "output_type": "display_data"
    }
   ],
   "source": [
    "report_model_regression(grid_model, X_test, y_test)"
   ]
  },
  {
   "cell_type": "code",
   "execution_count": null,
   "id": "3fa115aa",
   "metadata": {},
   "outputs": [],
   "source": []
  },
  {
   "cell_type": "markdown",
   "id": "8f8b5bf6",
   "metadata": {},
   "source": [
    "#### Get a quote\n",
    "Using tkinter to create a GUI for predicting prices of properties."
   ]
  },
  {
   "cell_type": "code",
   "execution_count": 17,
   "id": "d44e74ac",
   "metadata": {},
   "outputs": [],
   "source": [
    "import tkinter\n",
    "from tkinter import END, BOTH, LEFT, RIGHT, TOP\n",
    "from tkinter import IntVar, StringVar, ttk\n",
    "\n",
    "root = tkinter.Tk()\n",
    "root.title('Choose Your Apartment')\n",
    "\n",
    "root.iconbitmap('Double-J-Design-Origami-Colored-Pencil-Blue-home.ico') # filename\n",
    "root.geometry('900x910+100+100')\n",
    "root.resizable(0,1)\n",
    "root.config(bg='gray')\n",
    "\n",
    "# running the category mapping dictionaries to reverse the values from numerical to categorical\n",
    "property_type_order = {'in-law': 0, 'cottage/cabin': 1, 'apartment': 2, 'duplex': 3,\n",
    "                      'condo': 4, 'townhouse': 5, 'house': 6, 'flat': 7}\n",
    "\n",
    "parking_order = {'no parking': 0, 'off-street parking': 1, 'street parking': 2, \n",
    "                 'carport': 3, 'detached garage': 4, 'attached garage': 5, 'valet parking':6}\n",
    "\n",
    "laundry_order = {'no laundry on site': 0, 'laundry on site': 1, 'laundry in bldg': 2,\n",
    "                'w/d hookups': 3, 'w/d in unit': 4}\n",
    "\n",
    "\n",
    "subframe_left = tkinter.Frame(root)\n",
    "subframe_left.pack(side=LEFT, fill='y')\n",
    "\n",
    "subframe_right = tkinter.Frame(root)\n",
    "subframe_right.pack(expand=True, fill=BOTH, side=RIGHT)\n",
    "\n",
    "padx, pady = 10, 2\n",
    "ipadx, ipady = 5, 2\n",
    "\n",
    "label = tkinter.Label(subframe_left, text='Please answer each question', font=('Arial', 18, 'bold'))\n",
    "label.pack(padx=padx, pady=pady, ipadx=ipadx, ipady=ipady, anchor='w', fill='x')\n",
    "\n",
    "# property type\n",
    "frame_property_type = tkinter.LabelFrame(subframe_left, text='What type is the property?', \n",
    "                                          font=('Arial', 11, 'bold'))\n",
    "frame_property_type.pack(anchor='w',  fill='x', padx=padx, pady=pady, ipadx=ipadx, ipady=ipady)\n",
    "property_type_list = list(property_type_order.keys())\n",
    "property_type_combobox = ttk.Combobox(frame_property_type, value=property_type_list, \n",
    "                                       font=('Arial', 10,))\n",
    "property_type_combobox.grid(row=0, column=0, padx=padx, pady=pady)\n",
    "\n",
    "# zip_code code\n",
    "frame_zip_code = tkinter.LabelFrame(subframe_left, text='What is the zip_code code of the property?', \n",
    "                                          font=('Arial', 11, 'bold'))\n",
    "frame_zip_code.pack(anchor='w',  fill='x', padx=padx, pady=pady, ipadx=ipadx, ipady=ipady)\n",
    "zip_code_list = list(df['zip_code'].unique().astype(int))\n",
    "zip_code_list.sort()\n",
    "zip_code_combobox = ttk.Combobox(frame_zip_code, value=zip_code_list, \n",
    "                                       font=('Arial', 10,))\n",
    "zip_code_combobox.grid(row=0, column=0, padx=padx, pady=pady)\n",
    "\n",
    "# area\n",
    "frame_area = tkinter.LabelFrame(subframe_left, text='What is the area of the property in square feet?', \n",
    "                                          font=('Arial', 11, 'bold'))\n",
    "frame_area.pack(anchor='w',  fill='x', padx=padx, pady=pady, ipadx=ipadx, ipady=ipady)\n",
    "area_entry = ttk.Entry(frame_area, font=('Arial', 10,))\n",
    "area_entry.grid(row=0, column=0, padx=padx, pady=pady)\n",
    "area_label = ttk.Label(frame_area, text='sq. ft', font=('Arial', 10,))\n",
    "area_label.grid(row=0, column=1, padx=0, pady=pady)\n",
    "\n",
    "# bedrooms\n",
    "frame_bedrooms = tkinter.LabelFrame(subframe_left, text='How many bedrooms are there in the property?', \n",
    "                                          font=('Arial', 11, 'bold'))\n",
    "frame_bedrooms.pack(anchor='w',  fill='x', padx=padx, pady=pady, ipadx=ipadx, ipady=ipady)\n",
    "bedrooms_list = list(df['bedrooms'].unique().astype(int))\n",
    "bedrooms_list.sort()\n",
    "bedrooms_combobox = ttk.Combobox(frame_bedrooms, value=bedrooms_list, \n",
    "                                       font=('Arial', 10,))\n",
    "bedrooms_combobox.grid(row=0, column=0, padx=padx, pady=pady)\n",
    "\n",
    "# bathrooms\n",
    "frame_bathrooms = tkinter.LabelFrame(subframe_left, text='How many bathrooms are there in the property?', \n",
    "                                          font=('Arial', 11, 'bold'))\n",
    "frame_bathrooms.pack(anchor='w',  fill='x', padx=padx, pady=pady, ipadx=ipadx, ipady=ipady)\n",
    "bathrooms_list = list(df['bathrooms'].unique().astype(float))\n",
    "bathrooms_list.sort()\n",
    "bathrooms_combobox = ttk.Combobox(frame_bathrooms, value=bathrooms_list, \n",
    "                                       font=('Arial', 10,))\n",
    "bathrooms_combobox.grid(row=0, column=0, padx=padx, pady=pady)\n",
    "\n",
    "# parking\n",
    "frame_parking_type = tkinter.LabelFrame(subframe_left, text='What type is the parking?', \n",
    "                                          font=('Arial', 11, 'bold'))\n",
    "frame_parking_type.pack(anchor='w',  fill='x', padx=padx, pady=pady, ipadx=ipadx, ipady=ipady)\n",
    "parking_type_list = list(parking_order.keys())\n",
    "parking_type_combobox = ttk.Combobox(frame_parking_type, value=parking_type_list, \n",
    "                                       font=('Arial', 10,))\n",
    "parking_type_combobox.grid(row=0, column=0, padx=padx, pady=pady)\n",
    "\n",
    "# laundry\n",
    "frame_laundry_type = tkinter.LabelFrame(subframe_left, text='What type is the laundry?', \n",
    "                                          font=('Arial', 11, 'bold'))\n",
    "frame_laundry_type.pack(anchor='w',  fill='x', padx=padx, pady=pady, ipadx=ipadx, ipady=ipady)\n",
    "laundry_type_list = list(laundry_order.keys())\n",
    "laundry_type_combobox = ttk.Combobox(frame_laundry_type, value=laundry_type_list, \n",
    "                                       font=('Arial', 10,))\n",
    "laundry_type_combobox.grid(row=0, column=0, padx=padx, pady=pady)\n",
    "\n",
    "# ac\n",
    "frame_ac = tkinter.LabelFrame(subframe_left, text='Is there air conditioning in the property?',\n",
    "                                     font=('Arial', 11, 'bold'))\n",
    "frame_ac.pack(anchor='w',  fill='x', padx=padx, pady=pady, ipadx=ipadx, ipady=ipady)\n",
    "number_ac = IntVar()\n",
    "number_ac.set(2)\n",
    "radio_1 = tkinter.Radiobutton(frame_ac, text='Yes', variable=number_ac, value=1)\n",
    "radio_2 = tkinter.Radiobutton(frame_ac, text='No', variable=number_ac, value=0)\n",
    "radio_1.grid(row=0, column=0, padx=padx, pady=pady)\n",
    "radio_2.grid(row=0, column=1, padx=padx, pady=pady)\n",
    "\n",
    "# ev\n",
    "frame_ev = tkinter.LabelFrame(subframe_left, text='Is there EV charging in the property?',\n",
    "                                     font=('Arial', 11, 'bold'))\n",
    "frame_ev.pack(anchor='w',  fill='x', padx=padx, pady=pady, ipadx=ipadx, ipady=ipady)\n",
    "number_ev = IntVar()\n",
    "number_ev.set(2)\n",
    "radio_1 = tkinter.Radiobutton(frame_ev, text='Yes', variable=number_ev, value=1)\n",
    "radio_2 = tkinter.Radiobutton(frame_ev, text='No', variable=number_ev, value=0)\n",
    "radio_1.grid(row=0, column=0, padx=padx, pady=pady)\n",
    "radio_2.grid(row=0, column=1, padx=padx, pady=pady)\n",
    "\n",
    "# smoking\n",
    "frame_smoking = tkinter.LabelFrame(subframe_left, text='Is smoking allowed in the property?',\n",
    "                                     font=('Arial', 11, 'bold'))\n",
    "frame_smoking.pack(anchor='w',  fill='x', padx=padx, pady=pady, ipadx=ipadx, ipady=ipady)\n",
    "number_smoking = IntVar()\n",
    "number_smoking.set(2)\n",
    "radio_1 = tkinter.Radiobutton(frame_smoking, text='Yes', variable=number_smoking, value=1)\n",
    "radio_2 = tkinter.Radiobutton(frame_smoking, text='No', variable=number_smoking, value=0)\n",
    "radio_1.grid(row=0, column=0, padx=padx, pady=pady)\n",
    "radio_2.grid(row=0, column=1, padx=padx, pady=pady)\n",
    "\n",
    "# furnished\n",
    "frame_furnished = tkinter.LabelFrame(subframe_left, text='Is the property funished?', font=('Arial', 11, 'bold'))\n",
    "frame_furnished.pack(anchor='w',  fill='x', padx=padx, pady=pady, ipadx=ipadx, ipady=ipady)\n",
    "number_furnished = IntVar()\n",
    "number_furnished.set(2)\n",
    "radio_1 = tkinter.Radiobutton(frame_furnished, text='Yes', variable=number_furnished, value=1)\n",
    "radio_2 = tkinter.Radiobutton(frame_furnished, text='No', variable=number_furnished, value=0)\n",
    "radio_1.grid(row=0, column=0, padx=padx, pady=pady)\n",
    "radio_2.grid(row=0, column=1, padx=padx, pady=pady)\n",
    "\n",
    "# wheelchair\n",
    "frame_wheelchair = tkinter.LabelFrame(subframe_left, text='Is the property wheelchair accessible?',\n",
    "                                     font=('Arial', 11, 'bold'))\n",
    "frame_wheelchair.pack(anchor='w',  fill='x', padx=padx, pady=pady, ipadx=ipadx, ipady=ipady)\n",
    "number_wheelchair = IntVar()\n",
    "number_wheelchair.set(2)\n",
    "radio_1 = tkinter.Radiobutton(frame_wheelchair, text='Yes', variable=number_wheelchair, value=1)\n",
    "radio_2 = tkinter.Radiobutton(frame_wheelchair, text='No', variable=number_wheelchair, value=0)\n",
    "radio_1.grid(row=0, column=0, padx=padx, pady=pady)\n",
    "radio_2.grid(row=0, column=1, padx=padx, pady=pady)\n",
    "\n",
    "# cats\n",
    "frame_cats = tkinter.LabelFrame(subframe_left, text='Are cats allowed in the property?',\n",
    "                                     font=('Arial', 11, 'bold'))\n",
    "frame_cats.pack(anchor='w',  fill='x', padx=padx, pady=pady, ipadx=ipadx, ipady=ipady)\n",
    "number_cats = IntVar()\n",
    "number_cats.set(2)\n",
    "radio_1 = tkinter.Radiobutton(frame_cats, text='Yes', variable=number_cats, value=1)\n",
    "radio_2 = tkinter.Radiobutton(frame_cats, text='No', variable=number_cats, value=0)\n",
    "radio_1.grid(row=0, column=0, padx=padx, pady=pady)\n",
    "radio_2.grid(row=0, column=1, padx=padx, pady=pady)\n",
    "\n",
    "# dogs\n",
    "frame_dogs = tkinter.LabelFrame(subframe_left, text='Are dogs allowed in the property?',\n",
    "                                     font=('Arial', 11, 'bold'))\n",
    "frame_dogs.pack(anchor='w',  fill='x', padx=padx, pady=pady, ipadx=ipadx, ipady=ipady)\n",
    "number_dogs = IntVar()\n",
    "number_dogs.set(2)\n",
    "radio_1 = tkinter.Radiobutton(frame_dogs, text='Yes', variable=number_dogs, value=1)\n",
    "radio_2 = tkinter.Radiobutton(frame_dogs, text='No', variable=number_dogs, value=0)\n",
    "radio_1.grid(row=0, column=0, padx=padx, pady=pady)\n",
    "radio_2.grid(row=0, column=1, padx=padx, pady=pady)\n",
    "\n",
    "\n",
    "\n",
    "def submit():\n",
    "    # runs when button 'Done' is pressed\n",
    "    text = ''\n",
    "    \n",
    "    if property_type_combobox.get() in property_type_order.keys():\n",
    "        property_type = property_type_order[property_type_combobox.get()]\n",
    "    else:\n",
    "        text = text + 'Please select a property type.\\n'\n",
    "    \n",
    "    if zip_code_combobox.get().isdigit() == True:\n",
    "        if int(zip_code_combobox.get()) in list(df['zip_code'].unique().astype(int)):\n",
    "            zip_code_code = int(zip_code_combobox.get())\n",
    "        else:\n",
    "            text = text + 'Please select a zip_code code from the dropdown list.\\n'\n",
    "    else:\n",
    "        text = text + 'Please select a zip_code code.\\n'\n",
    "    \n",
    "    if (area_entry.get().isdigit() == True) & (area_entry.get().isdigit() > 0):\n",
    "        area = int(area_entry.get())\n",
    "    else:\n",
    "        text = text + 'Please enter a valid area size.\\n'\n",
    "    \n",
    "    if bedrooms_combobox.get().isdigit() == True:\n",
    "        if int(bedrooms_combobox.get()) in list(df['bedrooms'].unique().astype(int)):\n",
    "            bedrooms = int(bedrooms_combobox.get())\n",
    "        else:\n",
    "            text = text + 'Please select the number of bedrooms from the dropdown list.\\n'\n",
    "    else:\n",
    "        text = text + 'Please select the number of bedrooms.\\n'\n",
    "    \n",
    "    \n",
    "    if (bathrooms_combobox.get().isalpha() == False) and (bathrooms_combobox.get() != ''):\n",
    "        if float(bathrooms_combobox.get()) in list(df['bathrooms'].unique().astype(float)):\n",
    "            bathrooms = float(bathrooms_combobox.get())\n",
    "        else:\n",
    "            text = text + 'Please select the number of bathrooms from the dropdown list.\\n'\n",
    "    else:\n",
    "        text = text + 'Please select the number of bathrooms.\\n'\n",
    "    \n",
    "    if parking_type_combobox.get() in parking_order.keys():\n",
    "        parking = parking_order[parking_type_combobox.get()]\n",
    "    else:\n",
    "        text = text + 'Please select a parking type.\\n'\n",
    "    \n",
    "    if laundry_type_combobox.get() in laundry_order.keys():\n",
    "        laundry = laundry_order[laundry_type_combobox.get()]\n",
    "    else:\n",
    "        text = text + 'Please select a laundry type.\\n'\n",
    "    \n",
    "    if number_ac.get() == 2:\n",
    "        text = text + 'Please select if there is air conditioning in the property.\\n'\n",
    "    else:\n",
    "        ac = number_ac.get()\n",
    "    \n",
    "    if number_ev.get() == 2:\n",
    "        text = text + 'Please select if there is EV charging in the property.\\n'\n",
    "    else:\n",
    "        ev = number_ev.get()\n",
    "    \n",
    "    if number_smoking.get() == 2:\n",
    "        text = text + 'Please select if smoking is allowed in the property.\\n'\n",
    "    else:\n",
    "        smoking = number_smoking.get()\n",
    "    \n",
    "    if number_furnished.get() == 2:\n",
    "        text = text + 'Please select if the property is furnished or not.\\n'\n",
    "    else:\n",
    "        furnished = number_furnished.get()\n",
    "    \n",
    "    if number_wheelchair.get() == 2:\n",
    "        text = text + 'Please select if the property is wheelchair accessible.\\n'\n",
    "    else:\n",
    "        wheelchair = number_wheelchair.get()\n",
    "    \n",
    "    if number_cats.get() == 2:\n",
    "        text = text + 'Please select if cats are allowed in the property.\\n'\n",
    "    else:\n",
    "        cats = number_cats.get()\n",
    "        \n",
    "    if number_dogs.get() == 2:\n",
    "        text = text + 'Please select if dogs are allowed in the property.'\n",
    "    else:\n",
    "        dogs = number_dogs.get()\n",
    "    \n",
    "    output_field.config(text=text, bg='white', anchor='nw', justify=LEFT, font=('Arial', 11))\n",
    "                                            \n",
    "    if text == '':\n",
    "        X_pred = pd.DataFrame(data=[[area, bedrooms, bathrooms, property_type, parking, laundry,\n",
    "                              ev, ac, furnished, smoking, wheelchair, cats, dogs, zip_code_code]],\n",
    "                              columns=X.columns)\n",
    "        X_pred = scaler.transform(X_pred)\n",
    "        model_preds = grid_model.predict(X_pred)\n",
    "        output_field.config(text=f'The estimated monthly rent for the proprty is \\\n",
    "                            \\n${round(model_preds[0])}', \n",
    "                            bg='white', anchor='nw', justify=LEFT, font=('Arial', 14))\n",
    "        \n",
    "        \n",
    "def clear_output():\n",
    "    output_field.config(text='')\n",
    "    \n",
    "    \n",
    "# # text field frame\n",
    "output_field = tkinter.Label(subframe_right, bg='white')\n",
    "output_field.pack(fill=BOTH, expand=True, padx=padx, pady=10)\n",
    "\n",
    "\n",
    "# button frame\n",
    "frame_buttons = tkinter.LabelFrame(subframe_left)\n",
    "frame_buttons.pack(anchor='w',  fill='x', padx=padx, pady=pady, ipadx=ipadx, ipady=ipady)  \n",
    "    \n",
    "button_done = tkinter.Button(frame_buttons, text='Submit', borderwidth=5, width=12,\n",
    "                             font=('Arial', 11, 'bold'), command=submit)\n",
    "button_done.grid(row=0, column=0, padx=5, pady=2)\n",
    "\n",
    "button_clear = tkinter.Button(frame_buttons, text='Clear Output', borderwidth=5, width=12,\n",
    "                             font=('Arial', 11, 'bold'), command=clear_output)\n",
    "button_clear.grid(row=0, column=1, padx=5, pady=2)\n",
    "\n",
    "quit_button = tkinter.Button(frame_buttons, text='Quit', borderwidth=5, width=12,\n",
    "                             font=('Arial', 11, 'bold'), command=root.destroy)\n",
    "quit_button.grid(row=0, column=2, padx=5, pady=2)\n",
    "\n",
    "\n",
    "root.mainloop()"
   ]
  },
  {
   "cell_type": "code",
   "execution_count": null,
   "id": "6e916289",
   "metadata": {},
   "outputs": [],
   "source": []
  }
 ],
 "metadata": {
  "kernelspec": {
   "display_name": "craigslist",
   "language": "python",
   "name": "craigslist"
  },
  "language_info": {
   "codemirror_mode": {
    "name": "ipython",
    "version": 3
   },
   "file_extension": ".py",
   "mimetype": "text/x-python",
   "name": "python",
   "nbconvert_exporter": "python",
   "pygments_lexer": "ipython3",
   "version": "3.9.13"
  }
 },
 "nbformat": 4,
 "nbformat_minor": 5
}
